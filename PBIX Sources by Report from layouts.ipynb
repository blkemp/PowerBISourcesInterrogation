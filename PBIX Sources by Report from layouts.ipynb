{
 "cells": [
  {
   "cell_type": "markdown",
   "id": "3d29c9c2",
   "metadata": {},
   "source": [
    "## Extracting Data Sources by Report from PBIX layouts for PowerBI\n",
    "PowerBI files can be quite complex and exceedingly large, making understanding what data sources are being referenced where quite difficult. In the case of handovers between employees, a tool to quickly grasp the overall structure of the pbix file underlying any reporting can be invaluable. Additionally, such a tool is useful for continuous improvement activities such as removing redundant data sources from a dashboard that has evolved over time.\n",
    "\n",
    "Unfortunately, powerbi does not have any inbuilt functionality to allow such interrogation. However - there is a workaround. Like most \"modern\" office applications, the \".pbix\" file extension is actually a renamed \"wrapper\" for a \".zip\" file that actually contains all the information we need. By interrogating the \"Layouts\" JSON file in the \"Reports\" directory of this wrapper, you can piece together a reference table that gives exactly the overview needed.\n",
    "\n",
    "The below code parses this JSON data (which is otherwise incredibly difficult to read), but requires a few steps to take place first.\n",
    "\n",
    "    1.**MAKE A COPY** of the .pbix file you want to interrogate\n",
    "    2. With this **COPY**, rename the \".pbix\" extension to \".zip\" (AGAIN, ONLY DO THIS TO THE COPY, OTHERWISE YOU WILL BREAK YOUR SOURCE FILE)\n",
    "    3. Open the .zip file, and go into the \"Report\" folder within.\n",
    "    4. Open the \"Layout\" file in this folder using notepad. (important that you use notepad - other text editors commonly struggle with the text format).\n",
    "    5. \"Save As\" the file as a \"utf-8\" type text document, to a place you'll reference in the code below\n",
    "    \n",
    "That's it. Now just change the input and output directory variables in the below code and you'll have a .csv file with the page name, object reference, object type, source of the data used in the object, and how that data is used in the object.\n",
    "\n",
    "Cheers!"
   ]
  },
  {
   "cell_type": "code",
   "execution_count": 1,
   "id": "67ff0084",
   "metadata": {},
   "outputs": [],
   "source": [
    "import os\n",
    "import json\n",
    "import pandas as pd"
   ]
  },
  {
   "cell_type": "code",
   "execution_count": 2,
   "id": "cfa3ed9d",
   "metadata": {},
   "outputs": [],
   "source": [
    "#input file paths as necessary\n",
    "layout_file_path = \"Layouts\\\\Layout UTF8 Example.txt\"\n",
    "export_file_path = 'data_sources.csv'\n",
    "\n",
    "# EXAMPLE ONLY to look at a subfolder within the same directory you have saved this notebook\n",
    "## Set a variable for current notebook's path for various loading/saving mechanisms\n",
    "#nb_path = os.getcwd()\n",
    "## Specify the path to your json file\n",
    "#layout_file_path = \"{}\\\\Layouts\\\\Layout UTF8 Example.txt\".format(nb_path)"
   ]
  },
  {
   "cell_type": "code",
   "execution_count": 3,
   "id": "a13c9ff3",
   "metadata": {},
   "outputs": [],
   "source": [
    "# import json file\n",
    "with open(layout_file_path, 'r', encoding='utf-8') as layout_file:\n",
    "    layout_data = json.load(layout_file)\n",
    "\n",
    "# Initialize lists to store data\n",
    "data = []\n",
    "\n",
    "# Iterate through sections\n",
    "for section in layout_data.get('sections', []):\n",
    "    section_name = section.get('displayName', '')\n",
    "# Iterate through sections\n",
    "for section in layout_data.get('sections', []):\n",
    "    section_name = section.get('displayName', '')\n",
    "    \n",
    "    # Extract data from filters\n",
    "    filters_data = json.loads(section.get('filters', '[]'))\n",
    "    for filter_item in filters_data:\n",
    "        filter_name = filter_item.get('name', '')\n",
    "        filter_expression = filter_item.get('expression', {}).get('Column', {}).get('Expression', {}).get('SourceRef', {}).get('Entity', '')\n",
    "        \n",
    "        # Append data to the list\n",
    "        data.append([section_name, filter_name, 'Filter', filter_expression, ''])\n",
    "\n",
    "    # Extract data from visualContainers\n",
    "    for visual_container in section.get('visualContainers', []):\n",
    "        try:\n",
    "            visual_container_config = json.loads(visual_container.get('config', '{}'))\n",
    "            visual_container_name = visual_container_config.get('name', '')\n",
    "            visual_type = visual_container_config.get('singleVisual', {}).get('visualType', '')\n",
    "            \n",
    "            # Handle projections attribute\n",
    "            projections = visual_container_config.get('singleVisual', {}).get('projections', {})\n",
    "            if isinstance(projections, dict):\n",
    "                # Handle projections if it's a dictionary\n",
    "                for projection_type, projection_data in projections.items():\n",
    "                    for query_ref_data in projection_data:\n",
    "                        query_ref = query_ref_data.get('queryRef', '')\n",
    "                        # Append data to the list\n",
    "                        data.append([section_name, visual_container_name, visual_type, query_ref, projection_type])\n",
    "            elif isinstance(projections, list):\n",
    "                # Handle projections if it's a list\n",
    "                for projection_data in projections:\n",
    "                    query_ref = projection_data.get('queryRef', '')\n",
    "                    # Append data to the list\n",
    "                    data.append([section_name, visual_container_name, visual_type, query_ref, 'UnknownProjectionType'])\n",
    "\n",
    "        except json.JSONDecodeError as e:\n",
    "            print(f\"Error decoding JSON for visual container '{visual_container_name}': {e}\")\n",
    "            continue\n",
    "        except Exception as e:\n",
    "            print(f\"Error processing visual container '{visual_container_name}': {e}\")\n",
    "            continue\n",
    "\n",
    "# Create a DataFrame\n",
    "columns = ['SectionName', 'ObjectName', 'ObjectType', 'QueryRef', 'ProjectionType']\n",
    "df = pd.DataFrame(data, columns=columns)\n",
    "\n",
    "# export the DataFrame\n",
    "df.to_csv(export_file_path, index=False)\n"
   ]
  }
 ],
 "metadata": {
  "kernelspec": {
   "display_name": "Python 3 (ipykernel)",
   "language": "python",
   "name": "python3"
  },
  "language_info": {
   "codemirror_mode": {
    "name": "ipython",
    "version": 3
   },
   "file_extension": ".py",
   "mimetype": "text/x-python",
   "name": "python",
   "nbconvert_exporter": "python",
   "pygments_lexer": "ipython3",
   "version": "3.11.5"
  }
 },
 "nbformat": 4,
 "nbformat_minor": 5
}
